{
 "cells": [
  {
   "cell_type": "markdown",
   "id": "b9dcee66",
   "metadata": {},
   "source": [
    "Assignment: Extracting details from a set of images\n",
    "      Name: Lizel Rodrigues"
   ]
  },
  {
   "cell_type": "code",
   "execution_count": 1,
   "id": "97b4e285",
   "metadata": {},
   "outputs": [
    {
     "name": "stdout",
     "output_type": "stream",
     "text": [
      "Requirement already satisfied: pytesseract in c:\\users\\lizel rodrigues\\anaconda3\\lib\\site-packages (0.3.10)\n",
      "Requirement already satisfied: packaging>=21.3 in c:\\users\\lizel rodrigues\\anaconda3\\lib\\site-packages (from pytesseract) (21.3)\n",
      "Requirement already satisfied: Pillow>=8.0.0 in c:\\users\\lizel rodrigues\\anaconda3\\lib\\site-packages (from pytesseract) (8.4.0)\n",
      "Requirement already satisfied: pyparsing!=3.0.5,>=2.0.2 in c:\\users\\lizel rodrigues\\anaconda3\\lib\\site-packages (from packaging>=21.3->pytesseract) (3.0.4)\n",
      "Note: you may need to restart the kernel to use updated packages.\n"
     ]
    }
   ],
   "source": [
    "pip install pytesseract"
   ]
  },
  {
   "cell_type": "code",
   "execution_count": 2,
   "id": "b8c1992c",
   "metadata": {},
   "outputs": [
    {
     "name": "stdout",
     "output_type": "stream",
     "text": [
      "Requirement already satisfied: pillow in c:\\users\\lizel rodrigues\\anaconda3\\lib\\site-packages (8.4.0)\n",
      "Note: you may need to restart the kernel to use updated packages.\n"
     ]
    }
   ],
   "source": [
    "pip install pillow"
   ]
  },
  {
   "cell_type": "code",
   "execution_count": 3,
   "id": "624fedf6",
   "metadata": {},
   "outputs": [],
   "source": [
    "#importing the packages\n",
    "import csv\n",
    "import pandas as pd\n",
    "import re"
   ]
  },
  {
   "cell_type": "code",
   "execution_count": 4,
   "id": "b9119f8b",
   "metadata": {
    "scrolled": false
   },
   "outputs": [
    {
     "name": "stdout",
     "output_type": "stream",
     "text": [
      "INDIA\n",
      "Device Name: Pulse Oximeter\n",
      "\n",
      "REF NML903055\n",
      "\n",
      "LOT: 34683\n",
      "\n",
      "Cla) 4K. Zo @®\n",
      "\n",
      " \n",
      "\f",
      "\n",
      "INDIA\n",
      "Device Name: Blood Warmer\n",
      "\n",
      "REF NML903090\n",
      "\n",
      "LOT: 34641\n",
      "\n",
      "STERILE\n",
      "\n",
      " \n",
      "\n",
      " \n",
      "\f",
      "\n",
      "USA\n",
      "Device Name: C-Pap Machine\n",
      "\n",
      "REF NML903105\n",
      "\n",
      "LOT: 34662\n",
      "\n",
      "STERILE\n",
      "\n",
      " \n",
      "\n",
      " \n",
      "\f",
      "\n",
      "USA\n",
      "Device Name: ECG Machine\n",
      "\n",
      "REF NML903060\n",
      "\n",
      "LOT: 34690\n",
      "\n",
      " \n",
      "\f",
      "\n",
      "EU\n",
      "Device Name: HFNC Machine\n",
      "\n",
      "REF NML903095\n",
      "\n",
      "LOT: 34648\n",
      "\n",
      " \n",
      "\n",
      " \n",
      "\f",
      "\n",
      "EU\n",
      "Device Name: Infusion Pump\n",
      "\n",
      "REF NML903065\n",
      "\n",
      "LOT: 34697\n",
      "\n",
      " \n",
      "\f",
      "\n",
      "EU\n",
      "Device Name: NIBP Monitor\n",
      "\n",
      "REF NML903050\n",
      "\n",
      "LOT: 34676\n",
      "\n",
      "STERILE\n",
      "\n",
      " \n",
      "\n",
      " \n",
      "\f",
      "\n"
     ]
    }
   ],
   "source": [
    "from PIL import Image\n",
    "from pytesseract import pytesseract\n",
    "import os\n",
    "\n",
    "#Define path to tessaract.exe\n",
    "path_to_tesseract = r'C:\\Program Files (x86)\\Tesseract-OCR\\tesseract.exe'\n",
    "\n",
    "#Define path to images folder\n",
    "path_to_images = r'C:/Users/LIZEL RODRIGUES/OneDrive/Desktop/NMIMS3/PLACEMENTS/Medical device consultants/images/'\n",
    "\n",
    "#Point tessaract_cmd to tessaract.exe\n",
    "pytesseract.tesseract_cmd = path_to_tesseract\n",
    "list1=[]\n",
    "#Get the file names in the directory\n",
    "for root, dirs, file_names in os.walk(path_to_images):\n",
    "    #Iterate over each file name in the folder\n",
    "    for file_name in file_names:\n",
    "        #Open image with PIL\n",
    "        img = Image.open(path_to_images + file_name)\n",
    "\n",
    "        #Extract text from image\n",
    "        text = pytesseract.image_to_string(img)\n",
    "        print(text)\n",
    "        list1.append(text)\n",
    "        "
   ]
  },
  {
   "cell_type": "code",
   "execution_count": 5,
   "id": "3cac3ab3",
   "metadata": {},
   "outputs": [],
   "source": [
    "#create a list2 to remove \\n and replace by blank space\n",
    "list2=[]\n",
    "for i in list1:\n",
    "    list2.append(i.replace(\"\\n\",\"\"))"
   ]
  },
  {
   "cell_type": "code",
   "execution_count": 6,
   "id": "2280e257",
   "metadata": {},
   "outputs": [
    {
     "data": {
      "text/plain": [
       "['INDIADevice Name: Pulse OximeterREF NML903055LOT: 34683Cla) 4K. Zo @® \\x0c',\n",
       " 'INDIADevice Name: Blood WarmerREF NML903090LOT: 34641STERILE  \\x0c',\n",
       " 'USADevice Name: C-Pap MachineREF NML903105LOT: 34662STERILE  \\x0c',\n",
       " 'USADevice Name: ECG MachineREF NML903060LOT: 34690 \\x0c',\n",
       " 'EUDevice Name: HFNC MachineREF NML903095LOT: 34648  \\x0c',\n",
       " 'EUDevice Name: Infusion PumpREF NML903065LOT: 34697 \\x0c',\n",
       " 'EUDevice Name: NIBP MonitorREF NML903050LOT: 34676STERILE  \\x0c']"
      ]
     },
     "execution_count": 6,
     "metadata": {},
     "output_type": "execute_result"
    }
   ],
   "source": [
    "list2"
   ]
  },
  {
   "cell_type": "code",
   "execution_count": 7,
   "id": "cc68c1ff",
   "metadata": {},
   "outputs": [],
   "source": [
    "#creating 3 different list to extract different columns information \n",
    "device_name=[]\n",
    "REF=[]\n",
    "LOT=[]\n",
    "for i in range(len(list2)):\n",
    "    a=list2[i]\n",
    "    num1=a.find(\"Device Name:\")\n",
    "    num2=a.find(\"REF\")\n",
    "    device_name.append(a[num1+13:num2])\n",
    "    num3=a.find(\"LOT\")\n",
    "    REF.append(a[num2+4:num3])\n",
    "    LOT.append(a[num3+5:num3+10])\n",
    "    "
   ]
  },
  {
   "cell_type": "code",
   "execution_count": 8,
   "id": "e86c6e3d",
   "metadata": {},
   "outputs": [],
   "source": [
    "#Storing the extracted information in single dataframe\n",
    "df=pd.DataFrame()\n",
    "df[\"Device Name\"]=device_name\n",
    "df[\"Ref\"]=REF\n",
    "df[\"Lot\"]=LOT"
   ]
  },
  {
   "cell_type": "code",
   "execution_count": 9,
   "id": "251f1680",
   "metadata": {},
   "outputs": [
    {
     "data": {
      "text/html": [
       "<div>\n",
       "<style scoped>\n",
       "    .dataframe tbody tr th:only-of-type {\n",
       "        vertical-align: middle;\n",
       "    }\n",
       "\n",
       "    .dataframe tbody tr th {\n",
       "        vertical-align: top;\n",
       "    }\n",
       "\n",
       "    .dataframe thead th {\n",
       "        text-align: right;\n",
       "    }\n",
       "</style>\n",
       "<table border=\"1\" class=\"dataframe\">\n",
       "  <thead>\n",
       "    <tr style=\"text-align: right;\">\n",
       "      <th></th>\n",
       "      <th>Device Name</th>\n",
       "      <th>Ref</th>\n",
       "      <th>Lot</th>\n",
       "    </tr>\n",
       "  </thead>\n",
       "  <tbody>\n",
       "    <tr>\n",
       "      <th>0</th>\n",
       "      <td>Pulse Oximeter</td>\n",
       "      <td>NML903055</td>\n",
       "      <td>34683</td>\n",
       "    </tr>\n",
       "    <tr>\n",
       "      <th>1</th>\n",
       "      <td>Blood Warmer</td>\n",
       "      <td>NML903090</td>\n",
       "      <td>34641</td>\n",
       "    </tr>\n",
       "    <tr>\n",
       "      <th>2</th>\n",
       "      <td>C-Pap Machine</td>\n",
       "      <td>NML903105</td>\n",
       "      <td>34662</td>\n",
       "    </tr>\n",
       "    <tr>\n",
       "      <th>3</th>\n",
       "      <td>ECG Machine</td>\n",
       "      <td>NML903060</td>\n",
       "      <td>34690</td>\n",
       "    </tr>\n",
       "    <tr>\n",
       "      <th>4</th>\n",
       "      <td>HFNC Machine</td>\n",
       "      <td>NML903095</td>\n",
       "      <td>34648</td>\n",
       "    </tr>\n",
       "    <tr>\n",
       "      <th>5</th>\n",
       "      <td>Infusion Pump</td>\n",
       "      <td>NML903065</td>\n",
       "      <td>34697</td>\n",
       "    </tr>\n",
       "    <tr>\n",
       "      <th>6</th>\n",
       "      <td>NIBP Monitor</td>\n",
       "      <td>NML903050</td>\n",
       "      <td>34676</td>\n",
       "    </tr>\n",
       "  </tbody>\n",
       "</table>\n",
       "</div>"
      ],
      "text/plain": [
       "      Device Name        Ref    Lot\n",
       "0  Pulse Oximeter  NML903055  34683\n",
       "1    Blood Warmer  NML903090  34641\n",
       "2   C-Pap Machine  NML903105  34662\n",
       "3     ECG Machine  NML903060  34690\n",
       "4    HFNC Machine  NML903095  34648\n",
       "5   Infusion Pump  NML903065  34697\n",
       "6    NIBP Monitor  NML903050  34676"
      ]
     },
     "execution_count": 9,
     "metadata": {},
     "output_type": "execute_result"
    }
   ],
   "source": [
    "df"
   ]
  },
  {
   "cell_type": "code",
   "execution_count": 10,
   "id": "3bbd4590",
   "metadata": {},
   "outputs": [],
   "source": [
    "#since the extracted info didn't show the qty info, further steps are carried out."
   ]
  },
  {
   "cell_type": "code",
   "execution_count": 11,
   "id": "d5502b69",
   "metadata": {},
   "outputs": [
    {
     "data": {
      "text/plain": [
       "'cropped'"
      ]
     },
     "execution_count": 11,
     "metadata": {},
     "output_type": "execute_result"
    }
   ],
   "source": [
    "l = os.listdir(r\"C:/Users/LIZEL RODRIGUES/OneDrive/Desktop/NMIMS3/PLACEMENTS/Medical device consultants/image/\") \n",
    "l.pop(0)"
   ]
  },
  {
   "cell_type": "code",
   "execution_count": 12,
   "id": "85d7e924",
   "metadata": {},
   "outputs": [],
   "source": [
    "#cropping images to extract the required information\n",
    "path_folder = \"C:/Users/LIZEL RODRIGUES/OneDrive/Desktop/NMIMS3/PLACEMENTS/Medical device consultants/image/\"\n",
    "left = 1050\n",
    "top = 50\n",
    "right = 1555\n",
    "bottom = 385\n",
    "for i in l:\n",
    "    im = Image.open(path_folder + i)\n",
    "    im1 = im.crop((left, top, right, bottom))\n",
    "    im1.save(path_folder+\"cropped/\"+i)"
   ]
  },
  {
   "cell_type": "code",
   "execution_count": 13,
   "id": "7d9f5862",
   "metadata": {
    "scrolled": true
   },
   "outputs": [
    {
     "data": {
      "text/plain": [
       "['result_Page_1.png',\n",
       " 'result_Page_2.png',\n",
       " 'result_Page_3.png',\n",
       " 'result_Page_4.png',\n",
       " 'result_Page_5.png',\n",
       " 'result_Page_6.png',\n",
       " 'result_Page_7.png']"
      ]
     },
     "execution_count": 13,
     "metadata": {},
     "output_type": "execute_result"
    }
   ],
   "source": [
    "l"
   ]
  },
  {
   "cell_type": "code",
   "execution_count": 14,
   "id": "55769589",
   "metadata": {},
   "outputs": [
    {
     "name": "stdout",
     "output_type": "stream",
     "text": [
      "Qty: 4\n",
      "\f",
      "\n",
      "Qty: 1\n",
      "\f",
      "\n",
      "Qty: 1\n",
      "\f",
      "\n",
      "Qty: 9\n",
      "\f",
      "\n",
      "Qty: 5\n",
      "\f",
      "\n",
      "Qty: 10\n",
      "\f",
      "\n",
      "ce\n",
      "\n",
      "Qty: 5\n",
      "\f",
      "\n"
     ]
    }
   ],
   "source": [
    "list4=[]\n",
    "#Define path to images folder\n",
    "path_to_images = r'C:/Users/LIZEL RODRIGUES/OneDrive/Desktop/NMIMS3/PLACEMENTS/Medical device consultants/image/cropped/'\n",
    "\n",
    "#Point tessaract_cmd to tessaract.exe\n",
    "pytesseract.tesseract_cmd = path_to_tesseract\n",
    "\n",
    "#Get the file names in the directory\n",
    "for root, dirs, file_names in os.walk(path_to_images):\n",
    "    #Iterate over each file name in the folder\n",
    "    for file_name in file_names:\n",
    "        #Open image with PIL\n",
    "        img = Image.open(path_to_images + file_name)\n",
    "\n",
    "        #Extract text from image\n",
    "        text = pytesseract.image_to_string(img)\n",
    "        print(text)\n",
    "        list4.append(text)\n",
    "        \n",
    "    "
   ]
  },
  {
   "cell_type": "code",
   "execution_count": 15,
   "id": "d66cba28",
   "metadata": {
    "scrolled": true
   },
   "outputs": [
    {
     "data": {
      "text/plain": [
       "['Qty: 4\\n\\x0c',\n",
       " 'Qty: 1\\n\\x0c',\n",
       " 'Qty: 1\\n\\x0c',\n",
       " 'Qty: 9\\n\\x0c',\n",
       " 'Qty: 5\\n\\x0c',\n",
       " 'Qty: 10\\n\\x0c',\n",
       " 'ce\\n\\nQty: 5\\n\\x0c']"
      ]
     },
     "execution_count": 15,
     "metadata": {},
     "output_type": "execute_result"
    }
   ],
   "source": [
    "list4"
   ]
  },
  {
   "cell_type": "code",
   "execution_count": 16,
   "id": "ee598166",
   "metadata": {},
   "outputs": [],
   "source": [
    "Qty=[]\n",
    "for i in range(len(list4)):\n",
    "    a=list4[i]\n",
    "    num6=a.find(\"Qty:\")\n",
    "    num7=a.find(\" \")\n",
    "    Qty.append(a[num6+4:num7+2])"
   ]
  },
  {
   "cell_type": "code",
   "execution_count": 17,
   "id": "f3e29761",
   "metadata": {},
   "outputs": [
    {
     "data": {
      "text/plain": [
       "[' 4', ' 1', ' 1', ' 9', ' 5', ' 1', ' 5']"
      ]
     },
     "execution_count": 17,
     "metadata": {},
     "output_type": "execute_result"
    }
   ],
   "source": [
    "Qty"
   ]
  },
  {
   "cell_type": "code",
   "execution_count": 18,
   "id": "cc05ca44",
   "metadata": {},
   "outputs": [
    {
     "data": {
      "text/html": [
       "<div>\n",
       "<style scoped>\n",
       "    .dataframe tbody tr th:only-of-type {\n",
       "        vertical-align: middle;\n",
       "    }\n",
       "\n",
       "    .dataframe tbody tr th {\n",
       "        vertical-align: top;\n",
       "    }\n",
       "\n",
       "    .dataframe thead th {\n",
       "        text-align: right;\n",
       "    }\n",
       "</style>\n",
       "<table border=\"1\" class=\"dataframe\">\n",
       "  <thead>\n",
       "    <tr style=\"text-align: right;\">\n",
       "      <th></th>\n",
       "      <th>Device Name</th>\n",
       "      <th>Ref</th>\n",
       "      <th>Lot</th>\n",
       "      <th>Qty</th>\n",
       "    </tr>\n",
       "  </thead>\n",
       "  <tbody>\n",
       "    <tr>\n",
       "      <th>0</th>\n",
       "      <td>Pulse Oximeter</td>\n",
       "      <td>NML903055</td>\n",
       "      <td>34683</td>\n",
       "      <td>4</td>\n",
       "    </tr>\n",
       "    <tr>\n",
       "      <th>1</th>\n",
       "      <td>Blood Warmer</td>\n",
       "      <td>NML903090</td>\n",
       "      <td>34641</td>\n",
       "      <td>1</td>\n",
       "    </tr>\n",
       "    <tr>\n",
       "      <th>2</th>\n",
       "      <td>C-Pap Machine</td>\n",
       "      <td>NML903105</td>\n",
       "      <td>34662</td>\n",
       "      <td>1</td>\n",
       "    </tr>\n",
       "    <tr>\n",
       "      <th>3</th>\n",
       "      <td>ECG Machine</td>\n",
       "      <td>NML903060</td>\n",
       "      <td>34690</td>\n",
       "      <td>9</td>\n",
       "    </tr>\n",
       "    <tr>\n",
       "      <th>4</th>\n",
       "      <td>HFNC Machine</td>\n",
       "      <td>NML903095</td>\n",
       "      <td>34648</td>\n",
       "      <td>5</td>\n",
       "    </tr>\n",
       "    <tr>\n",
       "      <th>5</th>\n",
       "      <td>Infusion Pump</td>\n",
       "      <td>NML903065</td>\n",
       "      <td>34697</td>\n",
       "      <td>1</td>\n",
       "    </tr>\n",
       "    <tr>\n",
       "      <th>6</th>\n",
       "      <td>NIBP Monitor</td>\n",
       "      <td>NML903050</td>\n",
       "      <td>34676</td>\n",
       "      <td>5</td>\n",
       "    </tr>\n",
       "  </tbody>\n",
       "</table>\n",
       "</div>"
      ],
      "text/plain": [
       "      Device Name        Ref    Lot Qty\n",
       "0  Pulse Oximeter  NML903055  34683   4\n",
       "1    Blood Warmer  NML903090  34641   1\n",
       "2   C-Pap Machine  NML903105  34662   1\n",
       "3     ECG Machine  NML903060  34690   9\n",
       "4    HFNC Machine  NML903095  34648   5\n",
       "5   Infusion Pump  NML903065  34697   1\n",
       "6    NIBP Monitor  NML903050  34676   5"
      ]
     },
     "execution_count": 18,
     "metadata": {},
     "output_type": "execute_result"
    }
   ],
   "source": [
    "#Adding the newly extracted info to the dataframe\n",
    "df[\"Qty\"]=Qty\n",
    "df"
   ]
  },
  {
   "cell_type": "code",
   "execution_count": 19,
   "id": "bb4396ec",
   "metadata": {},
   "outputs": [],
   "source": [
    "#Exporting the output in excel file\n",
    "file_name = 'finaldata.xlsx'\n",
    "  \n",
    "# saving the excel\n",
    "df.to_excel(file_name)"
   ]
  },
  {
   "cell_type": "markdown",
   "id": "1bcb9a62",
   "metadata": {},
   "source": [
    "Since i have not worked much with image data and due to lack of time because of ongoing exams, i couldn't complete the last part, i.e., the symbol part."
   ]
  }
 ],
 "metadata": {
  "kernelspec": {
   "display_name": "Python 3 (ipykernel)",
   "language": "python",
   "name": "python3"
  },
  "language_info": {
   "codemirror_mode": {
    "name": "ipython",
    "version": 3
   },
   "file_extension": ".py",
   "mimetype": "text/x-python",
   "name": "python",
   "nbconvert_exporter": "python",
   "pygments_lexer": "ipython3",
   "version": "3.9.7"
  }
 },
 "nbformat": 4,
 "nbformat_minor": 5
}
